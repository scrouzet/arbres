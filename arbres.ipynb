{
 "cells": [
  {
   "cell_type": "markdown",
   "id": "1c77eb85-b32a-4c70-bf74-027b577d75b9",
   "metadata": {},
   "source": [
    "# Arbres toulousains\n",
    "\n",
    "Données sources :\n",
    "- localisation des arbres : https://data.toulouse-metropole.fr/explore/dataset/arbres-urbains\n",
    "- géométrie des quartiers de Toulouse : https://data.toulouse-metropole.fr/explore/dataset/quartiers-de-democratie-locale\n",
    "\n",
    "J'utilise ici les geojson \n",
    "\n",
    "TODO :\n",
    "- ajouter les arbres d'alignement"
   ]
  },
  {
   "cell_type": "code",
   "execution_count": 46,
   "id": "928c4760-b907-4471-8c62-792346557de9",
   "metadata": {},
   "outputs": [],
   "source": [
    "import geopandas as gpd\n",
    "import pandas as pd\n",
    "from shapely.geometry import shape, Point\n",
    "import json\n",
    "import matplotlib.pyplot as plt\n",
    "import folium\n",
    "from folium.plugins import MarkerCluster\n",
    "#from folium.plugins import FastMarkerCluster"
   ]
  },
  {
   "cell_type": "code",
   "execution_count": 21,
   "id": "b8f444dc-e1cc-4e84-b898-2f158a82434f",
   "metadata": {},
   "outputs": [],
   "source": [
    "url = \"https://data.toulouse-metropole.fr/api/explore/v2.1/catalog/datasets/quartiers-de-democratie-locale/exports/geojson\"\n",
    "df_quartiers = gpd.read_file(url)"
   ]
  },
  {
   "cell_type": "code",
   "execution_count": 14,
   "id": "ec322369-c570-44a2-a5bd-8a8656052837",
   "metadata": {},
   "outputs": [],
   "source": [
    "url = \"https://data.toulouse-metropole.fr/api/explore/v2.1/catalog/datasets/arbres-urbains/exports/geojson\"\n",
    "df_arbres = gpd.read_file(url)"
   ]
  },
  {
   "cell_type": "code",
   "execution_count": 39,
   "id": "c90f2c1a-b1dd-4bc7-bf78-b1ea90f47401",
   "metadata": {},
   "outputs": [],
   "source": [
    "df = df_arbres.sjoin(df_quartiers, how=\"inner\", predicate='intersects')"
   ]
  },
  {
   "cell_type": "code",
   "execution_count": 26,
   "id": "5db7aed8-911b-4845-804f-8b185735bfc1",
   "metadata": {
    "scrolled": true
   },
   "outputs": [
    {
     "data": {
      "text/html": [
       "<div>\n",
       "<style scoped>\n",
       "    .dataframe tbody tr th:only-of-type {\n",
       "        vertical-align: middle;\n",
       "    }\n",
       "\n",
       "    .dataframe tbody tr th {\n",
       "        vertical-align: top;\n",
       "    }\n",
       "\n",
       "    .dataframe thead th {\n",
       "        text-align: right;\n",
       "    }\n",
       "</style>\n",
       "<table border=\"1\" class=\"dataframe\">\n",
       "  <thead>\n",
       "    <tr style=\"text-align: right;\">\n",
       "      <th></th>\n",
       "      <th>id</th>\n",
       "      <th>longitude</th>\n",
       "      <th>latitude</th>\n",
       "      <th>famille</th>\n",
       "      <th>cultivar_variete</th>\n",
       "      <th>genre</th>\n",
       "      <th>espece</th>\n",
       "      <th>statut</th>\n",
       "      <th>hauteur</th>\n",
       "      <th>diametre</th>\n",
       "      <th>...</th>\n",
       "      <th>date_plantation</th>\n",
       "      <th>remarquable</th>\n",
       "      <th>geometry</th>\n",
       "      <th>index_right</th>\n",
       "      <th>geo_point_2d</th>\n",
       "      <th>quartier_secteur</th>\n",
       "      <th>secteur</th>\n",
       "      <th>quartier</th>\n",
       "      <th>nom_quartier</th>\n",
       "      <th>nom_secteur</th>\n",
       "    </tr>\n",
       "  </thead>\n",
       "  <tbody>\n",
       "    <tr>\n",
       "      <th>0</th>\n",
       "      <td>43609</td>\n",
       "      <td>43.612452</td>\n",
       "      <td>1.421931</td>\n",
       "      <td>Fagacees</td>\n",
       "      <td>None</td>\n",
       "      <td>Quercus</td>\n",
       "      <td>ilex</td>\n",
       "      <td>1 - Arbre vivant (AV)</td>\n",
       "      <td>6</td>\n",
       "      <td>12</td>\n",
       "      <td>...</td>\n",
       "      <td>None</td>\n",
       "      <td>None</td>\n",
       "      <td>POINT (1.42193 43.61245)</td>\n",
       "      <td>7</td>\n",
       "      <td>{'lon': 1.430922413500507, 'lat': 43.626866245...</td>\n",
       "      <td>3.1 Toulouse Nord</td>\n",
       "      <td>3</td>\n",
       "      <td>3.1</td>\n",
       "      <td>Minimes / Barrière de Paris / Ponts-Jumeaux</td>\n",
       "      <td>Toulouse Nord</td>\n",
       "    </tr>\n",
       "    <tr>\n",
       "      <th>1</th>\n",
       "      <td>43619</td>\n",
       "      <td>43.612115</td>\n",
       "      <td>1.422100</td>\n",
       "      <td>Fagacees</td>\n",
       "      <td>None</td>\n",
       "      <td>Quercus</td>\n",
       "      <td>ilex</td>\n",
       "      <td>1 - Arbre vivant (AV)</td>\n",
       "      <td>9</td>\n",
       "      <td>14</td>\n",
       "      <td>...</td>\n",
       "      <td>None</td>\n",
       "      <td>None</td>\n",
       "      <td>POINT (1.42210 43.61211)</td>\n",
       "      <td>7</td>\n",
       "      <td>{'lon': 1.430922413500507, 'lat': 43.626866245...</td>\n",
       "      <td>3.1 Toulouse Nord</td>\n",
       "      <td>3</td>\n",
       "      <td>3.1</td>\n",
       "      <td>Minimes / Barrière de Paris / Ponts-Jumeaux</td>\n",
       "      <td>Toulouse Nord</td>\n",
       "    </tr>\n",
       "    <tr>\n",
       "      <th>2</th>\n",
       "      <td>43622</td>\n",
       "      <td>43.612268</td>\n",
       "      <td>1.422047</td>\n",
       "      <td>Fagacees</td>\n",
       "      <td>None</td>\n",
       "      <td>Quercus</td>\n",
       "      <td>ilex</td>\n",
       "      <td>1 - Arbre vivant (AV)</td>\n",
       "      <td>9</td>\n",
       "      <td>19</td>\n",
       "      <td>...</td>\n",
       "      <td>None</td>\n",
       "      <td>None</td>\n",
       "      <td>POINT (1.42205 43.61227)</td>\n",
       "      <td>7</td>\n",
       "      <td>{'lon': 1.430922413500507, 'lat': 43.626866245...</td>\n",
       "      <td>3.1 Toulouse Nord</td>\n",
       "      <td>3</td>\n",
       "      <td>3.1</td>\n",
       "      <td>Minimes / Barrière de Paris / Ponts-Jumeaux</td>\n",
       "      <td>Toulouse Nord</td>\n",
       "    </tr>\n",
       "    <tr>\n",
       "      <th>3</th>\n",
       "      <td>43636</td>\n",
       "      <td>43.613453</td>\n",
       "      <td>1.421690</td>\n",
       "      <td>Cupressacees</td>\n",
       "      <td>None</td>\n",
       "      <td>Cupressus</td>\n",
       "      <td>sempervirens</td>\n",
       "      <td>1 - Arbre vivant (AV)</td>\n",
       "      <td>6</td>\n",
       "      <td>10</td>\n",
       "      <td>...</td>\n",
       "      <td>None</td>\n",
       "      <td>None</td>\n",
       "      <td>POINT (1.42169 43.61345)</td>\n",
       "      <td>7</td>\n",
       "      <td>{'lon': 1.430922413500507, 'lat': 43.626866245...</td>\n",
       "      <td>3.1 Toulouse Nord</td>\n",
       "      <td>3</td>\n",
       "      <td>3.1</td>\n",
       "      <td>Minimes / Barrière de Paris / Ponts-Jumeaux</td>\n",
       "      <td>Toulouse Nord</td>\n",
       "    </tr>\n",
       "    <tr>\n",
       "      <th>4</th>\n",
       "      <td>43639</td>\n",
       "      <td>43.614136</td>\n",
       "      <td>1.421482</td>\n",
       "      <td>Fagacees</td>\n",
       "      <td>None</td>\n",
       "      <td>Quercus</td>\n",
       "      <td>ilex</td>\n",
       "      <td>1 - Arbre vivant (AV)</td>\n",
       "      <td>8</td>\n",
       "      <td>17</td>\n",
       "      <td>...</td>\n",
       "      <td>None</td>\n",
       "      <td>None</td>\n",
       "      <td>POINT (1.42148 43.61414)</td>\n",
       "      <td>7</td>\n",
       "      <td>{'lon': 1.430922413500507, 'lat': 43.626866245...</td>\n",
       "      <td>3.1 Toulouse Nord</td>\n",
       "      <td>3</td>\n",
       "      <td>3.1</td>\n",
       "      <td>Minimes / Barrière de Paris / Ponts-Jumeaux</td>\n",
       "      <td>Toulouse Nord</td>\n",
       "    </tr>\n",
       "  </tbody>\n",
       "</table>\n",
       "<p>5 rows × 21 columns</p>\n",
       "</div>"
      ],
      "text/plain": [
       "      id  longitude  latitude       famille cultivar_variete      genre  \\\n",
       "0  43609  43.612452  1.421931      Fagacees             None    Quercus   \n",
       "1  43619  43.612115  1.422100      Fagacees             None    Quercus   \n",
       "2  43622  43.612268  1.422047      Fagacees             None    Quercus   \n",
       "3  43636  43.613453  1.421690  Cupressacees             None  Cupressus   \n",
       "4  43639  43.614136  1.421482      Fagacees             None    Quercus   \n",
       "\n",
       "         espece                 statut  hauteur  diametre  ...  \\\n",
       "0          ilex  1 - Arbre vivant (AV)        6        12  ...   \n",
       "1          ilex  1 - Arbre vivant (AV)        9        14  ...   \n",
       "2          ilex  1 - Arbre vivant (AV)        9        19  ...   \n",
       "3  sempervirens  1 - Arbre vivant (AV)        6        10  ...   \n",
       "4          ilex  1 - Arbre vivant (AV)        8        17  ...   \n",
       "\n",
       "   date_plantation remarquable                  geometry index_right  \\\n",
       "0             None        None  POINT (1.42193 43.61245)           7   \n",
       "1             None        None  POINT (1.42210 43.61211)           7   \n",
       "2             None        None  POINT (1.42205 43.61227)           7   \n",
       "3             None        None  POINT (1.42169 43.61345)           7   \n",
       "4             None        None  POINT (1.42148 43.61414)           7   \n",
       "\n",
       "                                        geo_point_2d   quartier_secteur  \\\n",
       "0  {'lon': 1.430922413500507, 'lat': 43.626866245...  3.1 Toulouse Nord   \n",
       "1  {'lon': 1.430922413500507, 'lat': 43.626866245...  3.1 Toulouse Nord   \n",
       "2  {'lon': 1.430922413500507, 'lat': 43.626866245...  3.1 Toulouse Nord   \n",
       "3  {'lon': 1.430922413500507, 'lat': 43.626866245...  3.1 Toulouse Nord   \n",
       "4  {'lon': 1.430922413500507, 'lat': 43.626866245...  3.1 Toulouse Nord   \n",
       "\n",
       "  secteur  quartier                                 nom_quartier  \\\n",
       "0       3       3.1  Minimes / Barrière de Paris / Ponts-Jumeaux   \n",
       "1       3       3.1  Minimes / Barrière de Paris / Ponts-Jumeaux   \n",
       "2       3       3.1  Minimes / Barrière de Paris / Ponts-Jumeaux   \n",
       "3       3       3.1  Minimes / Barrière de Paris / Ponts-Jumeaux   \n",
       "4       3       3.1  Minimes / Barrière de Paris / Ponts-Jumeaux   \n",
       "\n",
       "     nom_secteur  \n",
       "0  Toulouse Nord  \n",
       "1  Toulouse Nord  \n",
       "2  Toulouse Nord  \n",
       "3  Toulouse Nord  \n",
       "4  Toulouse Nord  \n",
       "\n",
       "[5 rows x 21 columns]"
      ]
     },
     "execution_count": 26,
     "metadata": {},
     "output_type": "execute_result"
    }
   ],
   "source": [
    "df.head()"
   ]
  },
  {
   "cell_type": "code",
   "execution_count": 42,
   "id": "050c5eaf-3537-401b-9c20-244ae348c88c",
   "metadata": {},
   "outputs": [
    {
     "data": {
      "text/plain": [
       "1.4349593484300285"
      ]
     },
     "execution_count": 42,
     "metadata": {},
     "output_type": "execute_result"
    }
   ],
   "source": [
    "df.latitude.mean()"
   ]
  },
  {
   "cell_type": "code",
   "execution_count": 51,
   "id": "25f184dc-ecbd-446b-9344-dbc846b300ac",
   "metadata": {},
   "outputs": [],
   "source": [
    "# Assuming df is your DataFrame and it has 'latitude' and 'longitude' columns\n",
    "# Convert the 'geometry' column to latitude and longitude if it's in another format\n",
    "#df['latitude'] = df.geometry.y\n",
    "#df['longitude'] = df.geometry.x\n",
    "\n",
    "# Create a base map\n",
    "#m = folium.Map(location=[df.latitude.mean(), df.longitude.mean()], zoom_start=13)\n",
    "m = folium.Map(location=[df.longitude.mean(), df.latitude.mean()], zoom_start=13)\n",
    "folium.TileLayer('cartodbpositron').add_to(m)  # Adding alternative tiles\n",
    "\n",
    "# Create a FastMarkerCluster object\n",
    "#marker_cluster = MarkerCluster(data=list(zip(df['longitude'], df['latitude'])))\n",
    "#marker_cluster = FastMarkerCluster(data=list(zip(df['longitude'], df['latitude'])))\n",
    "\n",
    "locations = list(zip(df['longitude'], df['latitude']))\n",
    "popups = [\"lon:{}<br>lat:{}\".format(lon, lat) for (lat, lon) in locations]\n",
    "\n",
    "icon_create_function = \"\"\"\\\n",
    "function(cluster) {\n",
    "    return L.divIcon({\n",
    "    html: '<b>' + cluster.getChildCount() + '</b>',\n",
    "    className: 'marker-cluster marker-cluster-large',\n",
    "    iconSize: new L.Point(20, 20)\n",
    "    });\n",
    "}\"\"\"\n",
    "\n",
    "\n",
    "marker_cluster = MarkerCluster(\n",
    "    locations=locations,\n",
    "    popups=popups,\n",
    "    name=\"1000 clustered icons\",\n",
    "    overlay=True,\n",
    "    control=True,\n",
    "    icon_create_function=icon_create_function,\n",
    ")\n",
    "\n",
    "# Add the FastMarkerCluster object to the map\n",
    "marker_cluster.add_to(m)\n",
    "\n",
    "# Save the map to an HTML file\n",
    "m.save(\"carte.html\")"
   ]
  },
  {
   "cell_type": "code",
   "execution_count": 53,
   "id": "ca577897-b24c-41f8-8538-dcbe0b980931",
   "metadata": {},
   "outputs": [
    {
     "data": {
      "text/plain": [
       "Index(['id', 'longitude', 'latitude', 'famille', 'cultivar_variete', 'genre',\n",
       "       'espece', 'statut', 'hauteur', 'diametre', 'diametre_couronne',\n",
       "       'date_plantation', 'remarquable', 'geometry', 'index_right',\n",
       "       'geo_point_2d', 'quartier_secteur', 'secteur', 'quartier',\n",
       "       'nom_quartier', 'nom_secteur'],\n",
       "      dtype='object')"
      ]
     },
     "execution_count": 53,
     "metadata": {},
     "output_type": "execute_result"
    }
   ],
   "source": [
    "df.keys()"
   ]
  },
  {
   "cell_type": "code",
   "execution_count": 55,
   "id": "20acba83-ea04-413b-b050-442223ed42e3",
   "metadata": {},
   "outputs": [
    {
     "name": "stdout",
     "output_type": "stream",
     "text": [
      "            quartier_secteur  tree_count  total_couronne_size\n",
      "0        1.1 Toulouse Centre        1820              -128682\n",
      "1        1.2 Toulouse Centre        3364              -228084\n",
      "2        1.3 Toulouse Centre        1425               -28981\n",
      "3   2.1 Toulouse Rive Gauche        2223                -3553\n",
      "4   2.2 Toulouse Rive Gauche        1804               -27912\n",
      "5   2.3 Toulouse Rive Gauche        4787              -644990\n",
      "6   2.4 Toulouse Rive Gauche        4487              -567258\n",
      "7          3.1 Toulouse Nord        3048              -122071\n",
      "8          3.2 Toulouse Nord        8719                 -397\n",
      "9          3.3 Toulouse Nord        7739              -312749\n",
      "10          4.1 Toulouse Est        3790              -148683\n",
      "11          4.2 Toulouse Est        4972               -37518\n",
      "12          4.3 Toulouse Est        6662              -277185\n",
      "13      5.1 Toulouse Sud Est        9792              -945752\n",
      "14      5.2 Toulouse Sud Est        5612             -1073236\n",
      "15      5.3 Toulouse Sud Est        8962              -105309\n",
      "16        6.1 Toulouse Ouest        2550              -155823\n",
      "17        6.2 Toulouse Ouest        8021              -745522\n",
      "18        6.3 Toulouse Ouest        9727             -1728590\n",
      "19        6.4 Toulouse Ouest        5463              -590927\n"
     ]
    }
   ],
   "source": [
    "# Count the number of trees in each neighborhood\n",
    "tree_counts = df.groupby('quartier_secteur').size()\n",
    "\n",
    "# Sum the couronne sizes in each neighborhood\n",
    "sum_couronne_sizes = df.groupby('quartier_secteur')['diametre_couronne'].sum()\n",
    "\n",
    "# Combine both results into a single DataFrame\n",
    "neighborhood_aggregates = pd.DataFrame({\n",
    "    'tree_count': tree_counts,\n",
    "    'total_couronne_size': sum_couronne_sizes\n",
    "}).reset_index()\n",
    "\n",
    "# Display the result\n",
    "print(neighborhood_aggregates)"
   ]
  },
  {
   "cell_type": "code",
   "execution_count": 70,
   "id": "543589f4-8769-497a-b22a-a77dd72e2206",
   "metadata": {},
   "outputs": [
    {
     "name": "stdout",
     "output_type": "stream",
     "text": [
      "                          Nombre arbres  Taille de couronne moyenne\n",
      "quartier_secteur                                                   \n",
      "5.1 Toulouse Sud Est               9792                    7.298770\n",
      "6.3 Toulouse Ouest                 9727                    6.867541\n",
      "5.3 Toulouse Sud Est               8962                    8.153310\n",
      "3.2 Toulouse Nord                  8719                    7.029606\n",
      "6.2 Toulouse Ouest                 8021                    5.842742\n",
      "3.3 Toulouse Nord                  7739                    5.063401\n",
      "4.3 Toulouse Est                   6662                    7.314961\n",
      "5.2 Toulouse Sud Est               5612                    8.186962\n",
      "6.4 Toulouse Ouest                 5463                    5.579038\n",
      "4.2 Toulouse Est                   4972                    6.370180\n",
      "2.3 Toulouse Rive Gauche           4787                    6.388889\n",
      "2.4 Toulouse Rive Gauche           4487                    6.902314\n",
      "4.1 Toulouse Est                   3790                    6.676923\n",
      "1.2 Toulouse Centre                3364                    5.771341\n",
      "3.1 Toulouse Nord                  3048                    6.835177\n",
      "6.1 Toulouse Ouest                 2550                    6.017850\n",
      "2.1 Toulouse Rive Gauche           2223                    8.328165\n",
      "1.1 Toulouse Centre                1820                    7.372881\n",
      "2.2 Toulouse Rive Gauche           1804                    8.306773\n",
      "1.3 Toulouse Centre                1425                    8.327869\n"
     ]
    }
   ],
   "source": [
    "outlier_threshold_low = 0.1\n",
    "outlier_threshold_high = 30  # You can set this based on your data\n",
    "\n",
    "count_per_neighborhood = df['quartier_secteur'].value_counts()\n",
    "#print(count_per_neighborhood)\n",
    "\n",
    "# Calculate the sum of diametre_couronne per neighborhood, ignoring outliers\n",
    "sum_per_neighborhood = df[df['diametre_couronne'].between(outlier_threshold_low, outlier_threshold_high)].groupby('quartier_secteur')['diametre_couronne'].mean()\n",
    "\n",
    "# Combine the results\n",
    "result = pd.concat([count_per_neighborhood, sum_per_neighborhood], axis=1)\n",
    "result.columns = ['Nombre arbres', 'Taille de couronne moyenne']\n",
    "\n",
    "# Show the result\n",
    "print(result)"
   ]
  },
  {
   "cell_type": "code",
   "execution_count": 66,
   "id": "4dfbbe08-f6be-44ff-9af4-75a454c46793",
   "metadata": {},
   "outputs": [
    {
     "data": {
      "text/plain": [
       "<bound method Series.max of 0          4\n",
       "1          5\n",
       "2          7\n",
       "3          2\n",
       "4          5\n",
       "          ..\n",
       "107645     7\n",
       "108817    12\n",
       "109053    15\n",
       "110817    20\n",
       "110907     2\n",
       "Name: diametre_couronne, Length: 48253, dtype: int64>"
      ]
     },
     "execution_count": 66,
     "metadata": {},
     "output_type": "execute_result"
    }
   ],
   "source": [
    "df[df['diametre_couronne'].between(outlier_threshold_low, outlier_threshold_high)]['diametre_couronne'].max"
   ]
  },
  {
   "cell_type": "code",
   "execution_count": 57,
   "id": "3aec3188-014e-4cc5-9e14-977207a5ae0b",
   "metadata": {},
   "outputs": [
    {
     "data": {
      "text/plain": [
       "<Axes: >"
      ]
     },
     "execution_count": 57,
     "metadata": {},
     "output_type": "execute_result"
    },
    {
     "data": {
      "image/png": "[encoded data removed]",
      "text/plain": [
       "<Figure size 640x480 with 1 Axes>"
      ]
     },
     "metadata": {},
     "output_type": "display_data"
    }
   ],
   "source": [
    "df.diametre_couronne.hist()"
   ]
  },
  {
   "cell_type": "code",
   "execution_count": 35,
   "id": "5219b8bf-0515-41df-a794-6a8f2d50f67e",
   "metadata": {},
   "outputs": [],
   "source": [
    "m = df[['diametre_couronne', 'quartier_secteur', 'geometry']].explore(\n",
    "      column='diametre_couronne',  # make choropleth based on \"BoroName\" column\n",
    "      #scheme=\"naturalbreaks\",  # use mapclassify's natural breaks scheme\n",
    "      #categorical=True,\n",
    "      cmap = 'RdYlGn',\n",
    "      marker_kwds=dict(radius=10, fill=True), # make marker radius 10px with fill\n",
    "      legend=False, # show legend\n",
    "      tooltip=False,\n",
    "      popup=True,\n",
    "      k=5, # use 10 bins\n",
    "      vmin=1, vmax=5,\n",
    "      tiles=None,\n",
    "      #legend_kwds= dict(caption='Moyenne des notes (de 1 à 5)', colorbar=True, max_labels=5),\n",
    "      #name=list_var_display[0], # name of the layer in the map\n",
    "      missing_kwds={'color': 'darkgrey', 'label': 'Pas de réponse'},\n",
    "      overlay=False\n",
    " )\n",
    "folium.TileLayer('cartodbpositron', control=False).add_to(m)  # use folium to add alternative tiles\n",
    "m.save(\"carte.html\")"
   ]
  },
  {
   "cell_type": "code",
   "execution_count": 4,
   "id": "97a253e2-3cca-4177-bbd5-6d0828e3e519",
   "metadata": {},
   "outputs": [],
   "source": [
    "tree_data_filepath = './data/arbres-urbains.csv'\n",
    "neighborhood_data_filepath = './data/quartiers-de-democratie-locale.csv'"
   ]
  },
  {
   "cell_type": "code",
   "execution_count": 5,
   "id": "87faa15f-d13a-4c6e-88c0-8506c9fd9326",
   "metadata": {},
   "outputs": [],
   "source": [
    "def load_tree_data(filepath):\n",
    "    # Load tree data from a CSV file\n",
    "    df = pd.read_csv(filepath, delimiter=';')\n",
    "    # Create Point geometry for each tree\n",
    "    df['geometry'] = [Point(xy) for xy in zip(df.longitude, df.latitude)]\n",
    "    df = df.rename(columns={'geometry': 'geometry_point'})\n",
    "    gdf = gpd.GeoDataFrame(df, geometry='geometry_point')\n",
    "    gdf.set_crs(epsg=4326, inplace=True)  # Assuming the coordinates are in WGS 84\n",
    "    return gdf\n",
    "\n",
    "def load_neighborhood_data(filepath):\n",
    "    # Load neighborhood data from a CSV file\n",
    "    df = pd.read_csv(filepath, delimiter=';')\n",
    "    # Convert the 'Geo Shape' column from JSON to a geometry object\n",
    "    df['geometry'] = df['Geo Shape'].apply(lambda x: shape(json.loads(x)))\n",
    "    #df = df.rename(columns={'Geo Shape': 'geometry'})\n",
    "    gdf = gpd.GeoDataFrame(df, geometry='geometry')\n",
    "    gdf.set_crs(epsg=4326, inplace=True)  # Ensure the CRS matches the tree data\n",
    "    return gdf\n",
    "\n",
    "def perform_spatial_join(trees_gdf, neighborhoods_gdf):\n",
    "    # Perform the spatial join\n",
    "    joined = gpd.sjoin(trees_gdf, neighborhoods_gdf, how=\"left\", op=\"within\")\n",
    "    return joined"
   ]
  },
  {
   "cell_type": "code",
   "execution_count": 6,
   "id": "bfae34d8-ffad-44c7-9516-d827dea4b54d",
   "metadata": {},
   "outputs": [
    {
     "name": "stdout",
     "output_type": "stream",
     "text": [
      "Trees CRS: EPSG:4326\n",
      "First few tree geometries: 0    POINT (43.57423 1.40219)\n",
      "1    POINT (43.57307 1.40119)\n",
      "2    POINT (43.57345 1.40120)\n",
      "3    POINT (43.57419 1.40198)\n",
      "4    POINT (43.57363 1.40125)\n",
      "Name: geometry_point, dtype: geometry\n"
     ]
    }
   ],
   "source": [
    "# Load data, CRS and inspect 1st few geometries\n",
    "trees_gdf = load_tree_data(tree_data_filepath)\n",
    "print(\"Trees CRS:\", trees_gdf.crs)\n",
    "print(\"First few tree geometries:\", trees_gdf.geometry.head())"
   ]
  },
  {
   "cell_type": "code",
   "execution_count": 8,
   "id": "6274d3ec-fb90-4698-bd32-a370063b82c6",
   "metadata": {},
   "outputs": [
    {
     "data": {
      "text/plain": [
       "Index(['id', 'longitude', 'latitude', 'Geo Point', 'famille',\n",
       "       'cultivar variete', 'genre', 'espece', 'statut', 'hauteur', 'diametre',\n",
       "       'diametre_couronne', 'date_plantation', 'remarquable',\n",
       "       'geometry_point'],\n",
       "      dtype='object')"
      ]
     },
     "execution_count": 8,
     "metadata": {},
     "output_type": "execute_result"
    }
   ],
   "source": [
    "trees_gdf.keys()"
   ]
  },
  {
   "cell_type": "code",
   "execution_count": 10,
   "id": "3104bf66-fb00-468a-8da6-58ee52268e9f",
   "metadata": {},
   "outputs": [
    {
     "data": {
      "text/plain": [
       "0          43.57423086893773, 1.4021914138404008\n",
       "1          43.57307335811948, 1.4011937208801282\n",
       "2          43.57344583424449, 1.4012045118646927\n",
       "3           43.57418719004558, 1.401983220598764\n",
       "4          43.57362912547214, 1.4012532790518575\n",
       "                           ...                  \n",
       "111299    43.587123636144206, 1.4031550312255892\n",
       "111300     43.584282564278155, 1.410245393527829\n",
       "111301     43.584425879747066, 1.410317083236464\n",
       "111302      43.583895233047485, 1.40950944779974\n",
       "111303      43.58443685418466, 1.410165955459405\n",
       "Name: Geo Point, Length: 111304, dtype: object"
      ]
     },
     "execution_count": 10,
     "metadata": {},
     "output_type": "execute_result"
    }
   ],
   "source": [
    "trees_gdf[\"Geo Point\"]"
   ]
  },
  {
   "cell_type": "code",
   "execution_count": 7,
   "id": "54709ea3-50d4-4751-becc-b46d7ea952b0",
   "metadata": {},
   "outputs": [
    {
     "name": "stdout",
     "output_type": "stream",
     "text": [
      "Neighborhoods CRS: EPSG:4326\n",
      "First few neighborhood geometries: 0    MULTIPOLYGON (((1.43559 43.60180, 1.43687 43.6...\n",
      "1    MULTIPOLYGON (((1.43904 43.63488, 1.43908 43.6...\n",
      "2    MULTIPOLYGON (((1.45687 43.60516, 1.45732 43.6...\n",
      "3    MULTIPOLYGON (((1.43677 43.54471, 1.43677 43.5...\n",
      "4    MULTIPOLYGON (((1.43434 43.60376, 1.43459 43.6...\n",
      "Name: geometry, dtype: geometry\n"
     ]
    }
   ],
   "source": [
    "# Load data, CRS and inspect 1st few geometries\n",
    "neighborhoods_gdf = load_neighborhood_data(neighborhood_data_filepath)\n",
    "print(\"Neighborhoods CRS:\", neighborhoods_gdf.crs)\n",
    "print(\"First few neighborhood geometries:\", neighborhoods_gdf.geometry.head())"
   ]
  },
  {
   "cell_type": "code",
   "execution_count": null,
   "id": "87582a30-32a4-4713-a96d-b793de826d4e",
   "metadata": {},
   "outputs": [],
   "source": [
    "# Perform spatial join and check\n",
    "joined_data = perform_spatial_join(trees_gdf, neighborhoods_gdf)\n",
    "print(\"Joined data sample:\", joined_data.head())"
   ]
  },
  {
   "cell_type": "code",
   "execution_count": null,
   "id": "dc568a66-f9da-497d-bda8-d1439f2bb8ee",
   "metadata": {},
   "outputs": [],
   "source": [
    "# Visualize the data (optional, requires matplotlib)\n",
    "fig, ax = plt.subplots()\n",
    "trees_gdf.plot(ax=ax, color='blue', markersize=5)\n",
    "neighborhoods_gdf.boundary.plot(ax=ax, color='red')\n",
    "plt.show()"
   ]
  },
  {
   "cell_type": "code",
   "execution_count": null,
   "id": "7036e8c0-7ccd-4a01-8c1d-4dae92ea9bdb",
   "metadata": {},
   "outputs": [],
   "source": [
    "# Perform spatial join\n",
    "#joined_data = perform_spatial_join(trees_gdf, neighborhoods_gdf)\n",
    "joined_data = gpd.sjoin(trees_gdf, neighborhoods_gdf, how=\"left\", op=\"within\")\n",
    "#joined_data = trees_gdf.sjoin(neighborhoods_gdf, how=\"left\")"
   ]
  },
  {
   "cell_type": "code",
   "execution_count": null,
   "id": "b914c1fd-1dcc-4992-88f9-0e208ec91ae8",
   "metadata": {},
   "outputs": [],
   "source": []
  },
  {
   "cell_type": "code",
   "execution_count": null,
   "id": "fee03846-469e-4d5f-b32f-21a19d71e7d2",
   "metadata": {},
   "outputs": [],
   "source": []
  }
 ],
 "metadata": {
  "kernelspec": {
   "display_name": "Python 3 (ipykernel)",
   "language": "python",
   "name": "python3"
  },
  "language_info": {
   "codemirror_mode": {
    "name": "ipython",
    "version": 3
   },
   "file_extension": ".py",
   "mimetype": "text/x-python",
   "name": "python",
   "nbconvert_exporter": "python",
   "pygments_lexer": "ipython3",
   "version": "3.10.13"
  }
 },
 "nbformat": 4,
 "nbformat_minor": 5
}
